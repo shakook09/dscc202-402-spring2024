{
 "cells": [
  {
   "cell_type": "markdown",
   "metadata": {
    "application/vnd.databricks.v1+cell": {
     "cellMetadata": {
      "byteLimit": 2048000,
      "rowLimit": 10000
     },
     "inputWidgets": {},
     "nuid": "fc749083-2211-485c-943f-640e198b2c70",
     "showTitle": false,
     "title": ""
    }
   },
   "source": [
    "## DSCC202-402 Data Science at Scale Final Project\n",
    "### Tracking Tweet sentiment at scale using a pretrained transformer (classifier)\n",
    "<p>Consider the following illustration of the end to end system that you will be building.  Each student should do their own work.  The project will demonstrate your understanding of Spark Streaming, the medalion data architecture using Delta Lake, Spark Inference at Scale using an MLflow packaged model as well as Exploritory Data Analysis and System Tracking and Monitoring.</p>\n",
    "<br><br>\n",
    "<img src=\"https://data-science-at-scale.s3.amazonaws.com/images/pipeline.drawio.png\">\n",
    "\n",
    "<p>\n",
    "You will be pulling an updated copy of the course GitHub repositiory: <a href=\"https://github.com/lpalum/dscc202-402-spring2024\">The Repo</a>.  If you are unclear on how to pull an updated copy using the GitHub command line, the following <a href=\"https://techwritingmatters.com/how-to-update-your-forked-repository-on-github\">document</a> is helpful.  Be sure to add the professors and TAs as collaborators on your project. \n",
    "\n",
    "- lpalum@gmail.com GitHub ID: lpalum\n",
    "- ajay.anand@rochester.edu GitHub ID: ajayan12\n",
    "- divyamunot1999@gmail.com GitHub ID: divyamunot\n",
    "- ylong6@u.Rochester.edu GitHub ID: NinaLong2077\n",
    "\n",
    "Once you have updates your fork of the repository you should see the following template project that is resident in the final_project directory.\n",
    "</p>\n",
    "\n",
    "<img src=\"https://data-science-at-scale.s3.amazonaws.com/images/notebooks.drawio.png\">\n",
    "\n",
    "<p>\n",
    "You can then pull your project into the Databrick Workspace using the <a href=\"https://www.databricks.training/step-by-step/importing-courseware-from-github/index.html\">Repos</a> feature.\n",
    "Each student is expected to submit the URL of their project on GitHub with their code checked in on the main/master branch.  This illustration highlights the branching scheme that you may use to work on your code in steps and then merge your submission into your master branch before submitting.\n",
    "</p>\n",
    "<img src=\"https://data-science-at-scale.s3.amazonaws.com/images/github.drawio.png\">\n",
    "<p>\n",
    "Work your way through this notebook which will give you the steps required to submit a complete and compliant project.  The following illustration and associated data dictionary specifies the transformations and data that you are to generate for each step in the medallion pipeline.\n",
    "</p>\n",
    "<br><br>\n",
    "<img src=\"https://data-science-at-scale.s3.amazonaws.com/images/dataframes.drawio.png\">\n",
    "\n",
    "#### Bronze Data - raw ingest\n",
    "- date - string in the source json\n",
    "- user - string in the source json\n",
    "- text - tweet string in the source json\n",
    "- sentiment - the given sentiment of the text as determined by an unknown model that is provided in the source json\n",
    "- source_file - the path of the source json file the this row of data was read from\n",
    "- processing_time - a timestamp of when you read this row from the source json\n",
    "\n",
    "#### Silver Data - Bronze Preprocessing\n",
    "- timestamp - convert date string in the bronze data to a timestamp\n",
    "- mention - every @username mentioned in the text string in the bronze data gets a row in this silver data table.\n",
    "- cleaned_text - the bronze text data with the mentions (@username) removed.\n",
    "- sentiment - the given sentiment that was associated with the text in the bronze table.\n",
    "\n",
    "#### Gold Data - Silver Table Inference\n",
    "- timestamp - the timestamp from the silver data table rows\n",
    "- mention - the mention from the silver data table rows\n",
    "- cleaned_text - the cleaned_text from the silver data table rows\n",
    "- sentiment - the given sentiment from the silver data table rows\n",
    "- predicted_score - score out of 100 from the Hugging Face Sentiment Transformer\n",
    "- predicted_sentiment - string representation of the sentiment\n",
    "- sentiment_id - 0 for negative and 1 for postive associated with the given sentiment\n",
    "- predicted_sentiment_id - 0 for negative and 1 for positive assocaited with the Hugging Face Sentiment Transformer\n",
    "\n",
    "#### Application Data - Gold Table Aggregation\n",
    "- min_timestamp - the oldest timestamp on a given mention (@username)\n",
    "- max_timestamp - the newest timestamp on a given mention (@username)\n",
    "- mention - the user (@username) that this row pertains to.\n",
    "- negative - total negative tweets directed at this mention (@username)\n",
    "- neutral - total neutral tweets directed at this mention (@username)\n",
    "- positive - total positive tweets directed at this mention (@username)\n",
    "\n",
    "When you are designing your approach, one of the main decisions that you will need to make is how you are going to orchestrate the streaming data processing in your pipeline.  There are several valid approaches.  First, you may choose to start the bronze_stream and let it complete (read and append all of the source data) before preceeding and starting up the silver_stream.  This approach has latency associated with it but it will allow your code to proceed in a linear fashion and process all the data by the end of your notebook execution.  Another potential approach is to start all the streams and have a \"watch\" method to determine when the pipeline has processed sufficient or all of the source data before stopping and displaying results.  Both of these approaches are valid and have different implications on how you will trigger your steams and how you will gate the execution of your pipeline.  Think through how you want to proceed and ask questions if you need guidance. The following references may be helpful:\n",
    "- [Spark Structured Streaming Programming Guide](https://spark.apache.org/docs/latest/structured-streaming-programming-guide.html)\n",
    "- [Databricks Autoloader - Cloudfiles](https://docs.databricks.com/en/ingestion/auto-loader/index.html)\n",
    "\n",
    "### Be sure that your project runs end to end when *Run all* is executued on this notebook! (15 Points out of 60)"
   ]
  },
  {
   "cell_type": "code",
   "execution_count": 0,
   "metadata": {
    "application/vnd.databricks.v1+cell": {
     "cellMetadata": {
      "byteLimit": 2048000,
      "rowLimit": 10000
     },
     "inputWidgets": {},
     "nuid": "068f25d0-1387-4342-89cf-ce82a8d614ce",
     "showTitle": true,
     "title": "Pull in the Includes & Utiltites"
    }
   },
   "outputs": [],
   "source": [
    "%run ./includes/includes"
   ]
  },
  {
   "cell_type": "code",
   "execution_count": 0,
   "metadata": {
    "application/vnd.databricks.v1+cell": {
     "cellMetadata": {
      "byteLimit": 2048000,
      "rowLimit": 10000
     },
     "inputWidgets": {},
     "nuid": "6512bf1b-50e0-4a4b-84a9-e280a6260b56",
     "showTitle": true,
     "title": "Notebook Control Widgets (maybe helpful)"
    }
   },
   "outputs": [],
   "source": [
    "\"\"\"\n",
    "Adding a widget to the notebook to control the clearing of a previous run.\n",
    "or stopping the active streams using routines defined in the utilities notebook\n",
    "\"\"\"\n",
    "dbutils.widgets.removeAll()\n",
    "\n",
    "dbutils.widgets.dropdown(\"clear_previous_run\", \"No\", [\"No\",\"Yes\"])\n",
    "if (getArgument(\"clear_previous_run\") == \"Yes\"):\n",
    "    clear_previous_run()\n",
    "    print(\"Cleared all previous data.\")\n",
    "\n",
    "dbutils.widgets.dropdown(\"stop_streams\", \"No\", [\"No\",\"Yes\"])\n",
    "if (getArgument(\"stop_streams\") == \"Yes\"):\n",
    "    stop_all_streams()\n",
    "    print(\"Stopped all active streams.\")\n",
    "\n",
    "from delta import *\n",
    "dbutils.widgets.dropdown(\"optimize_tables\", \"No\", [\"No\",\"Yes\"])\n",
    "if (getArgument(\"optimize_tables\") == \"Yes\"):\n",
    "    # Suck up those small files that we have been appending.\n",
    "    DeltaTable.forPath(spark, BRONZE_DELTA).optimize().executeCompaction()\n",
    "    # Suck up those small files that we have been appending.\n",
    "    DeltaTable.forPath(spark, SILVER_DELTA).optimize().executeCompaction()\n",
    "    # Suck up those small files that we have been appending.\n",
    "    DeltaTable.forPath(spark, GOLD_DELTA).optimize().executeCompaction()\n",
    "    print(\"Optimized all of the Delta Tables\")"
   ]
  },
  {
   "cell_type": "markdown",
   "metadata": {
    "application/vnd.databricks.v1+cell": {
     "cellMetadata": {
      "byteLimit": 2048000,
      "rowLimit": 10000
     },
     "inputWidgets": {},
     "nuid": "e8ce7c13-7f8f-4e11-b50c-fdaebbcf3f99",
     "showTitle": false,
     "title": ""
    }
   },
   "source": [
    "## 1.0 Import your libraries here...\n",
    "- Are your shuffle partitions consistent with your cluster and your workload?\n",
    "- Do you have the necessary libraries to perform the required operations in the pipeline/application?"
   ]
  },
  {
   "cell_type": "code",
   "execution_count": 0,
   "metadata": {
    "application/vnd.databricks.v1+cell": {
     "cellMetadata": {
      "byteLimit": 2048000,
      "rowLimit": 10000
     },
     "inputWidgets": {},
     "nuid": "67bafbb7-d34e-4e86-b159-b2e062faa1d0",
     "showTitle": false,
     "title": ""
    }
   },
   "outputs": [],
   "source": [
    "# Importing Spark session and data types\n",
    "from pyspark.sql import SparkSession, DataFrame, functions as F\n",
    "from pyspark.sql.functions import (\n",
    "    col, explode, split, regexp_replace, isnan, when, count, from_json, to_timestamp, \n",
    "    current_timestamp, udf\n",
    ")\n",
    "from pyspark.sql.types import StringType, FloatType, IntegerType, StructType, StructField, TimestampType\n",
    "from pyspark.sql.streaming import DataStreamReader\n",
    "\n",
    "# Importing MLlib for evaluation metrics\n",
    "from pyspark.mllib.evaluation import MulticlassMetrics\n",
    "\n",
    "# Visualization libraries\n",
    "import matplotlib.pyplot as plt\n",
    "import seaborn as sns\n",
    "\n",
    "# Importing external libraries\n",
    "from transformers import pipeline\n",
    "\n",
    "import mlflow\n",
    "\n",
    "spark.conf.set(\"spark.sql.shuffle.partitions\", \"100\")\n",
    "\n"
   ]
  },
  {
   "cell_type": "markdown",
   "metadata": {
    "application/vnd.databricks.v1+cell": {
     "cellMetadata": {
      "byteLimit": 2048000,
      "rowLimit": 10000
     },
     "inputWidgets": {},
     "nuid": "2b7624b4-0aa5-46b7-9767-52f462b2c574",
     "showTitle": false,
     "title": ""
    }
   },
   "source": [
    "## 2.0 Use the utility functions to ...\n",
    "- Read the source file directory listing\n",
    "- Count the source files (how many are there?)\n",
    "- print the contents of one of the files"
   ]
  },
  {
   "cell_type": "code",
   "execution_count": 0,
   "metadata": {
    "application/vnd.databricks.v1+cell": {
     "cellMetadata": {
      "byteLimit": 2048000,
      "rowLimit": 10000
     },
     "inputWidgets": {},
     "nuid": "548820cb-e590-48b4-a857-1d74d1e86d8e",
     "showTitle": false,
     "title": ""
    }
   },
   "outputs": [],
   "source": [
    "# Create Spark session\n",
    "spark = (SparkSession\n",
    "        .builder\n",
    "        .appName(\"Twitter Sentiment Analysis\")\n",
    "        .getOrCreate())\n",
    "\n",
    "schema = StructType([\n",
    "    StructField(\"date\", StringType(), True),\n",
    "    StructField(\"user\", StringType(), True),\n",
    "    StructField(\"text\", StringType(), True),\n",
    "    StructField(\"sentiment\", StringType(), True),\n",
    "    StructField(\"source_file\", StringType(), True)\n",
    "])\n",
    "\n",
    "tweets_df = (spark\n",
    "            .readStream \n",
    "            .format(\"cloudFiles\") \n",
    "            .option(\"cloudFiles.format\", \"json\") \n",
    "            .option(\"path\", \"s3a://voc-75-databricks-data/voc_volume/\") \n",
    "            .schema(schema) \n",
    "            .load())"
   ]
  },
  {
   "cell_type": "code",
   "execution_count": 0,
   "metadata": {
    "application/vnd.databricks.v1+cell": {
     "cellMetadata": {
      "byteLimit": 2048000,
      "rowLimit": 10000
     },
     "inputWidgets": {},
     "nuid": "a59749d5-e45d-460f-9be1-33652cda2ea5",
     "showTitle": false,
     "title": ""
    }
   },
   "outputs": [],
   "source": [
    "# ENTER YOUR CODE HERE\n",
    "spark = SparkSession.builder.appName(\"Tweet Analysis\").getOrCreate()\n",
    "\n",
    "files = dbutils.fs.ls(TWEET_SOURCE_PATH)\n",
    "\n",
    "num_files = len(files)\n",
    "print(\"Number of files:\", num_files)\n",
    "\n",
    "file_contents = dbutils.fs.head(files[0].path)\n",
    "print(file_contents)\n"
   ]
  },
  {
   "cell_type": "markdown",
   "metadata": {
    "application/vnd.databricks.v1+cell": {
     "cellMetadata": {
      "byteLimit": 2048000,
      "rowLimit": 10000
     },
     "inputWidgets": {},
     "nuid": "1676aed7-527f-4ea7-9d3b-52544e8c1e37",
     "showTitle": false,
     "title": ""
    }
   },
   "source": [
    "## 3.0 Transform the Raw Data to Bronze Data using a stream\n",
    "- define the schema for the raw data\n",
    "- setup a read stream using cloudfiles and the source data format\n",
    "- setup a write stream using cloudfiles to append to the bronze delta table\n",
    "- enforce schema\n",
    "- allow a new schema to be merged into the bronze delta table\n",
    "- Use the defined BRONZE_CHECKPOINT and BRONZE_DELTA paths defines in the includes\n",
    "- name your raw to bronze stream as bronze_stream\n",
    "- transform the raw data to the bronze data using the data definition at the top of the notebook"
   ]
  },
  {
   "cell_type": "code",
   "execution_count": 0,
   "metadata": {
    "application/vnd.databricks.v1+cell": {
     "cellMetadata": {
      "byteLimit": 2048000,
      "rowLimit": 10000
     },
     "inputWidgets": {},
     "nuid": "c4e37574-9885-4908-bf97-609d140a8818",
     "showTitle": false,
     "title": ""
    }
   },
   "outputs": [],
   "source": [
    "# Set Spark to use the legacy time parser policy\n",
    "spark.conf.set(\"spark.sql.legacy.timeParserPolicy\", \"LEGACY\")\n",
    "\n",
    "schema = StructType([\n",
    "    StructField(\"date\", StringType(), True),\n",
    "    StructField(\"user\", StringType(), True),\n",
    "    StructField(\"text\", StringType(), True),\n",
    "    StructField(\"sentiment\", StringType(), True)\n",
    "])\n",
    "\n",
    "# Read the source file directory as a stream using the schema\n",
    "raw_stream = (spark.readStream\n",
    "    .schema(schema)\n",
    "    .option(\"maxFilesPerTrigger\", 30)  \n",
    "    .json(TWEET_SOURCE_PATH))\n",
    "\n",
    "# Transform the raw stream to add a timestamp and processing_time, and drop the original 'date' column\n",
    "bronze_data = raw_stream \\\n",
    "    .withColumn(\"timestamp\", to_timestamp(col(\"date\"), \"EEE MMM dd HH:mm:ss zzz yyyy\")) \\\n",
    "    .withColumn(\"processing_time\", current_timestamp()) \\\n",
    "    .drop(\"date\")\n",
    "\n",
    "# Write the transformed bronze_data stream out to the Bronze Delta table\n",
    "bronze_stream = (bronze_data\n",
    "    .writeStream\n",
    "    .format(\"delta\")\n",
    "    .outputMode(\"append\")\n",
    "    .option(\"checkpointLocation\", BRONZE_CHECKPOINT)\n",
    "    .start(BRONZE_DELTA))\n"
   ]
  },
  {
   "cell_type": "code",
   "execution_count": 0,
   "metadata": {
    "application/vnd.databricks.v1+cell": {
     "cellMetadata": {
      "byteLimit": 2048000,
      "rowLimit": 10000
     },
     "inputWidgets": {},
     "nuid": "5b3dc0fc-9f25-4087-8cc8-3835c0885f5d",
     "showTitle": false,
     "title": ""
    }
   },
   "outputs": [],
   "source": [
    "bronze_table_df = spark.read.format(\"delta\").load(BRONZE_DELTA)\n",
    "display(bronze_table_df.show())"
   ]
  },
  {
   "cell_type": "markdown",
   "metadata": {
    "application/vnd.databricks.v1+cell": {
     "cellMetadata": {
      "byteLimit": 2048000,
      "rowLimit": 10000
     },
     "inputWidgets": {},
     "nuid": "9bc3e824-d218-43e5-a43b-4c6dbe31950d",
     "showTitle": false,
     "title": ""
    }
   },
   "source": [
    "## 4.0 Bronze Data Exploratory Data Analysis\n",
    "- How many tweets are captured in your Bronze Table?\n",
    "- Are there any columns that contain Nan or Null values?  If so how many and what will you do in your silver transforms to address this?\n",
    "- Count the number of tweets by each unique user handle and sort the data by descending count.\n",
    "- How many tweets have at least one mention (@) how many tweet have no mentions (@)\n",
    "- Plot a bar chart that shows the top 20 tweeters (users)\n"
   ]
  },
  {
   "cell_type": "code",
   "execution_count": 0,
   "metadata": {
    "application/vnd.databricks.v1+cell": {
     "cellMetadata": {
      "byteLimit": 2048000,
      "rowLimit": 10000
     },
     "inputWidgets": {},
     "nuid": "091ec59c-d968-4acf-b56f-cc9178cd0693",
     "showTitle": false,
     "title": ""
    }
   },
   "outputs": [],
   "source": [
    "# ENTER YOUR CODE HERE\n",
    "tweet_num = spark.read.format(\"delta\").load(BRONZE_DELTA).count()\n",
    "\n",
    "display(tweet_num)"
   ]
  },
  {
   "cell_type": "code",
   "execution_count": 0,
   "metadata": {
    "application/vnd.databricks.v1+cell": {
     "cellMetadata": {
      "byteLimit": 2048000,
      "rowLimit": 10000
     },
     "inputWidgets": {},
     "nuid": "59ad220c-29fb-43ab-b329-1f5439e18a96",
     "showTitle": false,
     "title": ""
    }
   },
   "outputs": [],
   "source": [
    "# Load the Bronze Delta table into a DataFrame\n",
    "bronze_df = spark.read.format(\"delta\").load(BRONZE_DELTA)\n",
    "\n",
    "# Count Null and NaN values for each column\n",
    "null_counts = bronze_df.select([count(when(col(c).isNull(), c)).alias(c) for c in bronze_df.columns])\n",
    "\n",
    "# Display the null counts for each column\n",
    "null_counts.show()"
   ]
  },
  {
   "cell_type": "code",
   "execution_count": 0,
   "metadata": {
    "application/vnd.databricks.v1+cell": {
     "cellMetadata": {
      "byteLimit": 2048000,
      "rowLimit": 10000
     },
     "inputWidgets": {},
     "nuid": "957bcc9e-6636-45a0-ae65-93ccdc8fe8da",
     "showTitle": false,
     "title": ""
    }
   },
   "outputs": [],
   "source": [
    "tweet_by_user = spark.read.format(\"delta\").load(BRONZE_DELTA).groupBy(\"user\").count().orderBy(col(\"count\").desc())\n",
    "display(tweet_by_user)"
   ]
  },
  {
   "cell_type": "code",
   "execution_count": 0,
   "metadata": {
    "application/vnd.databricks.v1+cell": {
     "cellMetadata": {
      "byteLimit": 2048000,
      "rowLimit": 10000
     },
     "inputWidgets": {},
     "nuid": "98eb6771-eb6f-4d7f-bf18-b5c10d1efe67",
     "showTitle": false,
     "title": ""
    }
   },
   "outputs": [],
   "source": [
    "tweet_with_mention = spark.read.format(\"delta\").load(BRONZE_DELTA).filter(col(\"text\").contains(\"@\")).count()\n",
    "tweet_without_mention = spark.read.format(\"delta\").load(BRONZE_DELTA).filter(~col(\"text\").contains(\"@\")).count()\n",
    "display(tweet_with_mention)"
   ]
  },
  {
   "cell_type": "code",
   "execution_count": 0,
   "metadata": {
    "application/vnd.databricks.v1+cell": {
     "cellMetadata": {
      "byteLimit": 2048000,
      "rowLimit": 10000
     },
     "inputWidgets": {},
     "nuid": "ee0b69b1-a9b4-44c5-b5b7-7d6222be082d",
     "showTitle": false,
     "title": ""
    }
   },
   "outputs": [],
   "source": [
    "display(tweet_without_mention)"
   ]
  },
  {
   "cell_type": "code",
   "execution_count": 0,
   "metadata": {
    "application/vnd.databricks.v1+cell": {
     "cellMetadata": {
      "byteLimit": 2048000,
      "rowLimit": 10000
     },
     "inputWidgets": {},
     "nuid": "ef546307-f4a2-4ae7-bff7-bed34de130b1",
     "showTitle": false,
     "title": ""
    }
   },
   "outputs": [],
   "source": [
    "# Top 20 Tweeters Bar Chart\n",
    "top_tweeters = tweet_by_user.limit(20).toPandas()\n",
    "\n",
    "plt.figure(figsize=(10, 6))\n",
    "plt.bar(top_tweeters['user'], top_tweeters['count'], color='green')\n",
    "plt.xlabel('Users')\n",
    "plt.ylabel('Number of Tweets')\n",
    "plt.xticks(rotation=90)\n",
    "plt.title('Top 20 Tweeters')\n",
    "plt.show()"
   ]
  },
  {
   "cell_type": "markdown",
   "metadata": {
    "application/vnd.databricks.v1+cell": {
     "cellMetadata": {
      "byteLimit": 2048000,
      "rowLimit": 10000
     },
     "inputWidgets": {},
     "nuid": "38c290b9-a42a-4551-857b-3f461b8a1be6",
     "showTitle": false,
     "title": ""
    }
   },
   "source": [
    "## 5.0 Transform the Bronze Data to Silver Data using a stream\n",
    "- setup a read stream on your bronze delta table\n",
    "- setup a write stream to append to the silver delta table\n",
    "- Use the defined SILVER_CHECKPOINT and SILVER_DELTA paths in the includes\n",
    "- name your bronze to silver stream as silver_stream\n",
    "- transform the bronze data to the silver data using the data definition at the top of the notebook"
   ]
  },
  {
   "cell_type": "code",
   "execution_count": 0,
   "metadata": {
    "application/vnd.databricks.v1+cell": {
     "cellMetadata": {
      "byteLimit": 2048000,
      "rowLimit": 10000
     },
     "inputWidgets": {},
     "nuid": "35f99241-aff1-4f29-84d3-684ca8f5a4a5",
     "showTitle": false,
     "title": ""
    }
   },
   "outputs": [],
   "source": [
    "\n",
    "# Read the Bronze Delta table as a stream\n",
    "bronze_df = (\n",
    "    spark.readStream\n",
    "    .format(\"delta\")\n",
    "    .load(BRONZE_DELTA)  \n",
    ")\n",
    "\n",
    "def process_bronze_to_silver(bronze_dataframe):\n",
    "    # Extract mentions from the text\n",
    "    mentions_df = bronze_dataframe.withColumn(\"mentions\", explode(split(regexp_replace(col(\"text\"), \"[^@\\\\w]\", \" \"), \" \")))\n",
    "    mentions_df = mentions_df.filter(mentions_df.mentions.startswith(\"@\"))\n",
    "    \n",
    "    # Create a cleaned_text column by removing mentions from the text\n",
    "    cleaned_text_df = mentions_df.withColumn(\"cleaned_text\", regexp_replace(col(\"text\"), \"@\\\\w+\", \"\"))\n",
    "    \n",
    "    # Retain the sentiment as is\n",
    "    silver_data = cleaned_text_df.select(\"cleaned_text\", \"sentiment\")\n",
    "    \n",
    "    return silver_data\n",
    "\n",
    "# Transform the data\n",
    "silver_data = process_bronze_to_silver(bronze_df)\n",
    "\n",
    "# Write the transformed silver_data stream out to the Silver Delta table\n",
    "silver_stream = (\n",
    "    silver_data\n",
    "    .writeStream\n",
    "    .format(\"delta\")\n",
    "    .outputMode(\"append\")\n",
    "    .option(\"checkpointLocation\", SILVER_CHECKPOINT)\n",
    "    .queryName(\"silver_stream\")  \n",
    "    .start(SILVER_DELTA) \n",
    ")\n"
   ]
  },
  {
   "cell_type": "code",
   "execution_count": 0,
   "metadata": {
    "application/vnd.databricks.v1+cell": {
     "cellMetadata": {
      "byteLimit": 2048000,
      "rowLimit": 10000
     },
     "inputWidgets": {},
     "nuid": "2efc4038-175d-444f-bbfc-f3fe98939a44",
     "showTitle": false,
     "title": ""
    }
   },
   "outputs": [],
   "source": [
    "# ENTER YOUR CODE HERE\n",
    "silver_tweet_count = spark.read.format(\"delta\").load(SILVER_DELTA).count()\n",
    "\n",
    "display(silver_tweet_count)"
   ]
  },
  {
   "cell_type": "code",
   "execution_count": 0,
   "metadata": {
    "application/vnd.databricks.v1+cell": {
     "cellMetadata": {
      "byteLimit": 2048000,
      "rowLimit": 10000
     },
     "inputWidgets": {},
     "nuid": "6ddfccd5-6dd1-4f89-9724-48bf66c46ab0",
     "showTitle": false,
     "title": ""
    }
   },
   "outputs": [],
   "source": [
    "silver_table_df = spark.read.format(\"delta\").load(SILVER_DELTA)\n",
    "display(silver_table_df.show())\n"
   ]
  },
  {
   "cell_type": "markdown",
   "metadata": {
    "application/vnd.databricks.v1+cell": {
     "cellMetadata": {
      "byteLimit": 2048000,
      "rowLimit": 10000
     },
     "inputWidgets": {},
     "nuid": "9ee38aba-e340-4766-8339-71ef2ecfde3a",
     "showTitle": false,
     "title": ""
    }
   },
   "source": [
    "## 6.0 Transform the Silver Data to Gold Data using a stream\n",
    "- setup a read stream on your silver delta table\n",
    "- setup a write stream to append to the gold delta table\n",
    "- Use the defined GOLD_CHECKPOINT and GOLD_DELTA paths defines in the includes\n",
    "- name your silver to gold stream as gold_stream\n",
    "- transform the silver data to the gold data using the data definition at the top of the notebook\n",
    "- Load the pretrained transformer sentiment classifier from the MODEL_NAME at the production level from the MLflow registry\n",
    "- Use a spark UDF to parallelize the inference across your silver data"
   ]
  },
  {
   "cell_type": "code",
   "execution_count": 0,
   "metadata": {
    "application/vnd.databricks.v1+cell": {
     "cellMetadata": {
      "byteLimit": 2048000,
      "rowLimit": 10000
     },
     "inputWidgets": {},
     "nuid": "42c8e925-b503-4c3d-9490-d9ab9593d99d",
     "showTitle": false,
     "title": ""
    }
   },
   "outputs": [],
   "source": [
    "# Load the pre-trained transformer sentiment classifier for gold model\n",
    "gold_sentiment_model = pipeline(model=HF_MODEL_NAME, force_download=True)\n",
    "\n",
    "# Define a UDF for sentiment analysis for gold model\n",
    "def analyze_sentiment_gold(text):\n",
    "    result = gold_sentiment_model(text)\n",
    "    sentiment_label = result[0]['label']\n",
    "    sentiment_mapping = {'POS': 1, 'NEU': 0, 'NEG': 0}  # Map sentiment to IDs\n",
    "    sentiment_id = sentiment_mapping.get(sentiment_label, -1)  # Default to -1 if label not found\n",
    "    return float(result[0]['score']), sentiment_label, sentiment_id\n",
    "\n",
    "gold_sentiment_udf = udf(analyze_sentiment_gold, returnType=StructType([\n",
    "    StructField(\"predicted_score\", FloatType(), False),\n",
    "    StructField(\"predicted_sentiment\", StringType(), False),\n",
    "    StructField(\"predicted_sentiment_id\", IntegerType(), False)\n",
    "]))\n",
    "\n",
    "# Read the Silver Delta table as a stream\n",
    "silver_df = (\n",
    "    spark.readStream\n",
    "    .format(\"delta\")\n",
    "    .load(SILVER_DELTA)\n",
    ")\n",
    "\n",
    "# Define the transformation logic from Silver to Gold\n",
    "def silver_to_gold(silver_dataframe):\n",
    "    gold_data = silver_dataframe.withColumn(\"sentiment_analysis\", gold_sentiment_udf(col(\"cleaned_text\")))\n",
    "    gold_data = gold_data.select(\n",
    "        col(\"timestamp\"),\n",
    "        col(\"mentions\"),\n",
    "        col(\"cleaned_text\"),\n",
    "        col(\"sentiment\"),\n",
    "        col(\"sentiment_analysis.predicted_score\").alias(\"predicted_score\"),\n",
    "        col(\"sentiment_analysis.predicted_sentiment\").alias(\"predicted_sentiment\"),\n",
    "        col(\"sentiment_analysis.predicted_sentiment_id\").alias(\"predicted_sentiment_id\")\n",
    "    )\n",
    "    return gold_data\n",
    "\n",
    "# Transform the data\n",
    "gold_data = silver_to_gold(silver_df)\n",
    "\n",
    "# Write the transformed gold_data stream to the Gold Delta table\n",
    "gold_stream = (\n",
    "    gold_data\n",
    "    .writeStream\n",
    "    .format(\"delta\")\n",
    "    .outputMode(\"append\")\n",
    "    .option(\"checkpointLocation\", GOLD_CHECKPOINT)\n",
    "    .queryName(\"gold_stream\")\n",
    "    .start(GOLD_DELTA)\n",
    ")\n"
   ]
  },
  {
   "cell_type": "code",
   "execution_count": 0,
   "metadata": {
    "application/vnd.databricks.v1+cell": {
     "cellMetadata": {
      "byteLimit": 2048000,
      "rowLimit": 10000
     },
     "inputWidgets": {},
     "nuid": "c3341c0c-9c28-4eb4-ae7b-efcaf99e6342",
     "showTitle": false,
     "title": ""
    }
   },
   "outputs": [],
   "source": [
    "gold_tweet_count = spark.read.format(\"delta\").load(GOLD_DELTA).count()\n",
    "\n",
    "display(gold_tweet_count)"
   ]
  },
  {
   "cell_type": "code",
   "execution_count": 0,
   "metadata": {
    "application/vnd.databricks.v1+cell": {
     "cellMetadata": {
      "byteLimit": 2048000,
      "rowLimit": 10000
     },
     "inputWidgets": {},
     "nuid": "9aac43ea-75f2-4ede-9f98-5a2b6833ed03",
     "showTitle": false,
     "title": ""
    }
   },
   "outputs": [],
   "source": [
    "gold_table_df = spark.read.format(\"delta\").load(GOLD_DELTA)\n",
    "display(gold_table_df.show())"
   ]
  },
  {
   "cell_type": "markdown",
   "metadata": {
    "application/vnd.databricks.v1+cell": {
     "cellMetadata": {
      "byteLimit": 2048000,
      "rowLimit": 10000
     },
     "inputWidgets": {},
     "nuid": "0494d8b4-5a55-47fc-af12-47325f34a303",
     "showTitle": false,
     "title": ""
    }
   },
   "source": [
    "## 7.0 Capture the accuracy metrics from the gold table in MLflow\n",
    "Store the following in an MLflow experiment run:\n",
    "- Store the precision, recall, and F1-score as MLflow metrics\n",
    "- Store an image of the confusion matrix as an MLflow artifact\n",
    "- Store the mdoel name and the MLflow version that was used as an MLflow parameters\n",
    "- Store the version of the Delta Table (input-silver) as an MLflow parameter"
   ]
  },
  {
   "cell_type": "code",
   "execution_count": 0,
   "metadata": {
    "application/vnd.databricks.v1+cell": {
     "cellMetadata": {
      "byteLimit": 2048000,
      "rowLimit": 10000
     },
     "inputWidgets": {},
     "nuid": "3bb174ad-67e4-4b0a-be36-ff20a760ee8b",
     "showTitle": false,
     "title": ""
    }
   },
   "outputs": [],
   "source": [
    "# ENTER YOUR CODE HERE\n",
    "# Load the data from the Gold Delta table\n",
    "gold_data = spark.read.format(\"delta\").load(GOLD_DELTA)\n",
    "\n",
    "# Define a mapping of sentiments to numeric values\n",
    "sentiment_mapping = {'POS': 1, 'NEU': 0, 'NEG': 0}\n",
    "\n",
    "# Define a UDF to convert sentiment labels to numeric IDs\n",
    "def map_sentiment_to_numeric(label):\n",
    "    return sentiment_mapping.get(label, -1)  # Returns -1 if label is not in the dictionary\n",
    "\n",
    "# Register UDF with Spark\n",
    "map_sentiment_to_numeric_udf = udf(map_sentiment_to_numeric, IntegerType())\n",
    "\n",
    "# Add a new column for numeric sentiment labels\n",
    "gold_data = gold_data.withColumn(\"numeric_sentiment\", map_sentiment_to_numeric_udf(col(\"predicted_sentiment\")))\n",
    "\n",
    "# Filter out rows where predicted_sentiment_id is null\n",
    "filtered_data = gold_data.filter(col(\"predicted_sentiment_id\").isNotNull())\n",
    "\n",
    "# Select the predicted sentiment IDs and true labels\n",
    "rdd = filtered_data.select(col(\"predicted_sentiment_id\").cast(\"double\"), col(\"numeric_sentiment\").cast(\"double\")).rdd\n",
    "\n",
    "# Instantiate metrics object\n",
    "metrics = MulticlassMetrics(rdd)\n",
    "\n",
    "# Calculate evaluation metrics\n",
    "precision = metrics.precision(1.0)\n",
    "recall = metrics.recall(1.0)\n",
    "f1_score = metrics.fMeasure(1.0)\n"
   ]
  },
  {
   "cell_type": "code",
   "execution_count": 0,
   "metadata": {
    "application/vnd.databricks.v1+cell": {
     "cellMetadata": {
      "byteLimit": 2048000,
      "rowLimit": 10000
     },
     "inputWidgets": {},
     "nuid": "dbdb0eb6-6ee6-4bba-808e-199d117df195",
     "showTitle": false,
     "title": ""
    }
   },
   "outputs": [],
   "source": [
    "# Confusion matrix\n",
    "conf_matrix = metrics.confusionMatrix().toArray()\n",
    "\n",
    "# Plot the confusion matrix\n",
    "plt.figure(figsize=(10, 7))\n",
    "sns.heatmap(conf_matrix, annot=True, fmt='g', cmap='Blues')\n",
    "plt.xlabel('Predicted Labels')\n",
    "plt.ylabel('True Labels')\n",
    "plt.title('Confusion Matrix')\n",
    "plt.savefig('confusion_matrix.png')\n",
    "plt.show()\n"
   ]
  },
  {
   "cell_type": "code",
   "execution_count": 0,
   "metadata": {
    "application/vnd.databricks.v1+cell": {
     "cellMetadata": {
      "byteLimit": 2048000,
      "rowLimit": 10000
     },
     "inputWidgets": {},
     "nuid": "5dec5094-82ea-421e-99ec-5d93a4f85e5f",
     "showTitle": false,
     "title": ""
    }
   },
   "outputs": [],
   "source": [
    "# Start an MLflow run\n",
    "with mlflow.start_run():\n",
    "    # Log evaluation metrics\n",
    "    mlflow.log_metric(\"Precision\", precision)\n",
    "    mlflow.log_metric(\"Recall\", recall)\n",
    "    mlflow.log_metric(\"F1 Score\", f1_score)\n",
    "\n",
    "    # Log the confusion matrix image as an artifact\n",
    "    mlflow.log_artifact('confusion_matrix.png', \"confusion_matrix.png\")\n",
    "\n",
    "    # Log model details and MLflow version as parameters\n",
    "    mlflow.log_param(\"Model Name\", HF_MODEL_NAME)\n",
    "    mlflow.log_param(\"MLflow Version\", mlflow.__version__)\n"
   ]
  },
  {
   "cell_type": "markdown",
   "metadata": {
    "application/vnd.databricks.v1+cell": {
     "cellMetadata": {
      "byteLimit": 2048000,
      "rowLimit": 10000
     },
     "inputWidgets": {},
     "nuid": "81e0e2de-b872-4698-81cc-1669646c2183",
     "showTitle": false,
     "title": ""
    }
   },
   "source": [
    "## 8.0 Application Data Processing and Visualization\n",
    "- How many mentions are there in the gold data total?\n",
    "- Count the number of neutral, positive and negative tweets for each mention in new columns\n",
    "- Capture the total for each mention in a new column\n",
    "- Sort the mention count totals in descending order\n",
    "- Plot a bar chart of the top 20 mentions with positive sentiment (the people who are in favor)\n",
    "- Plot a bar chart of the top 20 mentions with negative sentiment (the people who are the vilians)\n",
    "\n",
    "You may want to use the \"Loop Application\" widget to control whether you repeateded display the latest plots while the data comes in from your streams before moving on to the next section and cleaning up your run.\n",
    "\n",
    "*note: A mention is a specific twitter user that has been \"mentioned\" in a tweet with an @user reference."
   ]
  },
  {
   "cell_type": "code",
   "execution_count": 0,
   "metadata": {
    "application/vnd.databricks.v1+cell": {
     "cellMetadata": {
      "byteLimit": 2048000,
      "rowLimit": 10000
     },
     "inputWidgets": {},
     "nuid": "8250667b-eaa5-48a1-90c7-bfe11e666e32",
     "showTitle": false,
     "title": ""
    }
   },
   "outputs": [],
   "source": [
    "# ENTER YOUR CODE HERE\n",
    "# Load data from the Gold Delta table\n",
    "gold_data = spark.read.format(\"delta\").load(GOLD_DELTA)\n",
    "\n",
    "# Aggregate data to count sentiments for each mention and capture timestamps\n",
    "mention_sentiment_count = gold_data.groupBy(\"mentions\").agg(\n",
    "    F.min(\"timestamp\").alias(\"first_timestamp\"),\n",
    "    F.max(\"timestamp\").alias(\"last_timestamp\"),\n",
    "    F.count(F.when(F.col(\"predicted_sentiment\") == \"NEU\", True)).alias(\"neutral_count\"),\n",
    "    F.count(F.when(F.col(\"predicted_sentiment\") == \"POS\", True)).alias(\"positive_count\"),\n",
    "    F.count(F.when(F.col(\"predicted_sentiment\") == \"NEG\", True)).alias(\"negative_count\"),\n",
    "    F.count(\"*\").alias(\"total_mentions\")\n",
    ").orderBy(F.desc(\"total_mentions\"))\n"
   ]
  },
  {
   "cell_type": "code",
   "execution_count": 0,
   "metadata": {
    "application/vnd.databricks.v1+cell": {
     "cellMetadata": {
      "byteLimit": 2048000,
      "rowLimit": 10000
     },
     "inputWidgets": {},
     "nuid": "ffa637ec-2437-47d4-97cf-08d6ca96075e",
     "showTitle": false,
     "title": ""
    }
   },
   "outputs": [],
   "source": [
    "mention_sentiment_count.show(20)"
   ]
  },
  {
   "cell_type": "code",
   "execution_count": 0,
   "metadata": {
    "application/vnd.databricks.v1+cell": {
     "cellMetadata": {
      "byteLimit": 2048000,
      "rowLimit": 10000
     },
     "inputWidgets": {},
     "nuid": "b3d76ad6-610d-426a-a283-e393bd5b6b46",
     "showTitle": false,
     "title": ""
    }
   },
   "outputs": [],
   "source": [
    "\n",
    "def visualize_top_mentions(dataframe, sentiment_column, chart_title):\n",
    "    top_mentions_df = dataframe.orderBy(F.desc(sentiment_column)).limit(20).toPandas()\n",
    "\n",
    "    # Create the visualization\n",
    "    plt.figure(figsize=(12, 8))\n",
    "    plt.barh(top_mentions_df['mentions'], top_mentions_df[sentiment_column], color='red')\n",
    "    plt.xlabel('Counts')\n",
    "    plt.ylabel('Mentions')\n",
    "    plt.title(chart_title)\n",
    "    plt.gca().invert_yaxis()  # Invert y-axis to have the largest values on top\n",
    "    plt.show()\n"
   ]
  },
  {
   "cell_type": "code",
   "execution_count": 0,
   "metadata": {
    "application/vnd.databricks.v1+cell": {
     "cellMetadata": {
      "byteLimit": 2048000,
      "rowLimit": 10000
     },
     "inputWidgets": {},
     "nuid": "ebde349c-5437-400f-9a7d-c90140beedb5",
     "showTitle": false,
     "title": ""
    }
   },
   "outputs": [],
   "source": [
    "# Visualize the top 20 mentions with positive sentiment\n",
    "visualize_top_mentions(mention_sentiment_count, 'positive_count', 'Top 20 Mentions - Positive Sentiment')\n",
    "\n",
    "# Visualize the top 20 mentions with negative sentiment\n",
    "visualize_top_mentions(mention_sentiment_count, 'negative_count', 'Top 20 Mentions - Negative Sentiment')\n"
   ]
  },
  {
   "cell_type": "markdown",
   "metadata": {
    "application/vnd.databricks.v1+cell": {
     "cellMetadata": {
      "byteLimit": 2048000,
      "rowLimit": 10000
     },
     "inputWidgets": {},
     "nuid": "5d5add3f-0c13-4d81-86d8-12cf3cfdd2c8",
     "showTitle": false,
     "title": ""
    }
   },
   "source": [
    "## 9.0 Clean up and completion of your pipeline\n",
    "- using the utilities what streams are running? If any.\n",
    "- Stop all active streams\n",
    "- print out the elapsed time of your notebook."
   ]
  },
  {
   "cell_type": "code",
   "execution_count": 0,
   "metadata": {
    "application/vnd.databricks.v1+cell": {
     "cellMetadata": {
      "byteLimit": 2048000,
      "rowLimit": 10000
     },
     "inputWidgets": {},
     "nuid": "0304e685-c26e-447d-b230-c37266f30003",
     "showTitle": false,
     "title": ""
    }
   },
   "outputs": [],
   "source": [
    "# ENTER YOUR CODE HERE\n",
    "for stream in spark.streams.active:\n",
    "    stream.stop()\n",
    "    print(f\"Stopped stream: {stream.name}\")"
   ]
  },
  {
   "cell_type": "code",
   "execution_count": 0,
   "metadata": {
    "application/vnd.databricks.v1+cell": {
     "cellMetadata": {
      "byteLimit": 2048000,
      "rowLimit": 10000
     },
     "inputWidgets": {},
     "nuid": "ea759fc8-1d78-4d6d-b571-e2e256448b76",
     "showTitle": false,
     "title": ""
    }
   },
   "outputs": [],
   "source": [
    "# Get the notebooks ending time note START_TIME was established in the include file when the notebook started.\n",
    "import time\n",
    "\n",
    "END_TIMESTAMP = time.time()\n",
    "\n",
    "# Calculate the time elapsed in seconds\n",
    "time_elapsed_seconds = END_TIMESTAMP - START_TIME\n",
    "\n",
    "# Convert elapsed time to minutes and hours\n",
    "time_elapsed_minutes = time_elapsed_seconds / 60\n",
    "time_elapsed_hours = time_elapsed_minutes / 60\n",
    "\n",
    "# Display the elapsed time in different units\n",
    "print(f\"Time Elapsed: {time_elapsed_seconds:.2f} seconds ({time_elapsed_minutes:.2f} minutes, {time_elapsed_hours:.2f} hours)\")\n"
   ]
  },
  {
   "cell_type": "markdown",
   "metadata": {
    "application/vnd.databricks.v1+cell": {
     "cellMetadata": {
      "byteLimit": 2048000,
      "rowLimit": 10000
     },
     "inputWidgets": {},
     "nuid": "b88fc0e5-f50c-4ed1-9480-16a4c8a44b30",
     "showTitle": false,
     "title": ""
    }
   },
   "source": [
    "## 10.0 How Optimized is your Spark Application (Grad Students Only)\n",
    "Graduate students (registered for the DSCC-402 section of the course) are required to do this section.  This is a written analysis using the Spark UI (link to screen shots) that support your analysis of your pipelines execution and what is driving its performance.\n",
    "Recall that Spark Optimization has 5 significant dimensions of considertation:\n",
    "- Spill: write to executor disk due to lack of memory\n",
    "- Skew: imbalance in partition size\n",
    "- Shuffle: network io moving data between executors (wide transforms)\n",
    "- Storage: inefficiency due to disk storage format (small files, location)\n",
    "- Serialization: distribution of code segments across the cluster\n",
    "\n",
    "Comment on each of the dimentions of performance and how your impelementation is or is not being affected.  Use specific information in the Spark UI to support your description.  \n",
    "\n",
    "Note: you can take sreenshots of the Spark UI from your project runs in databricks and then link to those pictures by storing them as a publicly accessible file on your cloud drive (google, one drive, etc.)\n",
    "\n",
    "References:\n",
    "- [Spark UI Reference Reference](https://spark.apache.org/docs/latest/web-ui.html#web-ui)\n",
    "- [Spark UI Simulator](https://www.databricks.training/spark-ui-simulator/index.html)"
   ]
  },
  {
   "cell_type": "markdown",
   "metadata": {
    "application/vnd.databricks.v1+cell": {
     "cellMetadata": {
      "byteLimit": 2048000,
      "rowLimit": 10000
     },
     "inputWidgets": {},
     "nuid": "a0a5707d-a5ca-4e87-9e74-3b13d00337b0",
     "showTitle": false,
     "title": ""
    }
   },
   "source": [
    "### ENTER YOUR MARKDOWN HERE"
   ]
  }
 ],
 "metadata": {
  "application/vnd.databricks.v1+notebook": {
   "dashboards": [],
   "language": "python",
   "notebookMetadata": {
    "mostRecentlyExecutedCommandWithImplicitDF": {
     "commandId": -1,
     "dataframes": [
      "_sqldf"
     ]
    },
    "pythonIndentUnit": 4,
    "widgetLayout": [
     {
      "breakBefore": false,
      "name": "clear_previous_run",
      "width": 203
     },
     {
      "breakBefore": false,
      "name": "stop_streams",
      "width": 203
     }
    ]
   },
   "notebookName": "Starter Streaming Tweet Sentiment - Spring 2024 Final Project",
   "widgets": {
    "clear_previous_run": {
     "currentValue": "No",
     "nuid": "11b43403-c70f-41ef-ab0e-41172583baaa",
     "typedWidgetInfo": null,
     "widgetInfo": {
      "widgetType": "dropdown",
      "defaultValue": "No",
      "label": null,
      "name": "clear_previous_run",
      "options": {
       "widgetType": "dropdown",
       "autoCreated": null,
       "choices": [
        "No",
        "Yes"
       ]
      }
     }
    },
    "optimize_tables": {
     "currentValue": "No",
     "nuid": "d27f2950-3146-4010-8bc6-58c47a93e7a9",
     "typedWidgetInfo": null,
     "widgetInfo": {
      "widgetType": "dropdown",
      "defaultValue": "No",
      "label": null,
      "name": "optimize_tables",
      "options": {
       "widgetType": "dropdown",
       "autoCreated": null,
       "choices": [
        "No",
        "Yes"
       ]
      }
     }
    },
    "stop_streams": {
     "currentValue": "No",
     "nuid": "d70a2190-266e-473c-86a7-84f7bf56b386",
     "typedWidgetInfo": null,
     "widgetInfo": {
      "widgetType": "dropdown",
      "defaultValue": "No",
      "label": null,
      "name": "stop_streams",
      "options": {
       "widgetType": "dropdown",
       "autoCreated": null,
       "choices": [
        "No",
        "Yes"
       ]
      }
     }
    }
   }
  }
 },
 "nbformat": 4,
 "nbformat_minor": 0
}
